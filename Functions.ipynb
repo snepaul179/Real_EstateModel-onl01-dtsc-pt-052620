{
 "cells": [
  {
   "cell_type": "markdown",
   "metadata": {},
   "source": [
    "Creating funtion to help out with Module-2 Final Project. The list of finction and thier discription will be listed below\n"
   ]
  },
  {
   "cell_type": "markdown",
   "metadata": {},
   "source": []
  },
  {
   "cell_type": "code",
   "execution_count": 1,
   "metadata": {},
   "outputs": [
    {
     "name": "stderr",
     "output_type": "stream",
     "text": [
      "/opt/anaconda3/envs/learn-env/lib/python3.6/importlib/_bootstrap.py:219: RuntimeWarning: numpy.ufunc size changed, may indicate binary incompatibility. Expected 192 from C header, got 216 from PyObject\n",
      "  return f(*args, **kwds)\n",
      "/opt/anaconda3/envs/learn-env/lib/python3.6/importlib/_bootstrap.py:219: RuntimeWarning: numpy.ufunc size changed, may indicate binary incompatibility. Expected 192 from C header, got 216 from PyObject\n",
      "  return f(*args, **kwds)\n",
      "/opt/anaconda3/envs/learn-env/lib/python3.6/importlib/_bootstrap.py:219: RuntimeWarning: numpy.ufunc size changed, may indicate binary incompatibility. Expected 192 from C header, got 216 from PyObject\n",
      "  return f(*args, **kwds)\n",
      "/opt/anaconda3/envs/learn-env/lib/python3.6/importlib/_bootstrap.py:219: RuntimeWarning: numpy.ufunc size changed, may indicate binary incompatibility. Expected 192 from C header, got 216 from PyObject\n",
      "  return f(*args, **kwds)\n"
     ]
    }
   ],
   "source": [
    "import pandas as pd\n",
    "import numpy as np\n",
    "import matplotlib.pyplot as plt\n",
    "import statsmodels.api as sm\n",
    "import statsmodels.stats.api as sms\n",
    "import statsmodels.formula.api as smf\n",
    "import scipy.stats as stats\n",
    "%matplotlib inline\n",
    "import warnings"
   ]
  },
  {
   "cell_type": "code",
   "execution_count": 5,
   "metadata": {},
   "outputs": [],
   "source": [
    "import seaborn as sns\n",
    "import scipy.stats as stats"
   ]
  },
  {
   "cell_type": "code",
   "execution_count": 2,
   "metadata": {},
   "outputs": [],
   "source": [
    "def plot_scatter ():\n",
    "    ''' This function will plot scatter plots.\n",
    "    Inputs are independent variable (X), dependent variable (Y).\n",
    "    output will be the fg and axes. '''\n",
    "    \n",
    "    fig ,ax = plt.subplots(x,y,xlabel,ylabel='SalePrice')\n",
    "    \n",
    "    ax.scatter(x,y, marker = '.')\n",
    "    ax.set(xlabel=xlabel,ylabel=ylabel)\n",
    "    ax.set_title(f'{xlabel} vs {ylabel}')\n",
    "    \n",
    "    return fig, ax"
   ]
  },
  {
   "cell_type": "code",
   "execution_count": 4,
   "metadata": {},
   "outputs": [],
   "source": [
    "def corr_map(df):\n",
    "    ''' Generates correlation mask to hide the unwanted cells from a correlation matrix. \n",
    "    required input is the df (DataFrame)'''\n",
    "    \n",
    "    # Set a new fig and its size\n",
    "    fig, ax= plt.subplots(figsize = (12,12))\n",
    "    \n",
    "    # Create a corrrelation matrix for each df columns and round it to 3 sig-figs.\n",
    "    corr = np.abs(df.corr().round(3))\n",
    "    \n",
    "    # Create a mask to hide the duplicate half of the matrix for easy comparison\n",
    "    mask = np.zeros_like(corr, dtype=np.bool)\n",
    "    idx = np.triu_indices_from(mask)\n",
    "    mask[idx] = True\n",
    "    \n",
    "    # create a heat map with the help of the correlation values\n",
    "    sns.heatmap(corr,annot=True,square=True,mask=mask,cmap='Blues',\n",
    "            center=0,ax=ax,linewidths=.5, cbar_kws={\"shrink\": .5}, cbar=True)\n",
    "    \n",
    "    plt.set_ylim(len(corr),-0.5,0.5)"
   ]
  },
  {
   "cell_type": "code",
   "execution_count": null,
   "metadata": {},
   "outputs": [],
   "source": [
    "def multi_linear_reg (df, drop_cols, target):\n",
    "    ''' Generate a multilinear model from a DataFrame and without the drop_cols. \n",
    "    \n",
    "    @params:\n",
    "    df is a pd.DataFrame\n",
    "    drop_cols is a list of columns to not include in the model fit\n",
    "    target is the str() of our predicted columns name.\n",
    "    \n",
    "    @Output:\n",
    "    generated linear model\n",
    "    Columns used to generate the model\n",
    "    '''\n",
    "    # generate the columns used to the \n",
    "    cols = df.drop(drop_cols,axis=1).columns\n",
    "    str_cols = ' + '.join(cols)\n",
    "    str_cols\n",
    "    \n",
    "    # join our taget with our predictors str\n",
    "    f = str(target)+'~'+str_cols\n",
    "    \n",
    "    #generate our linear model\n",
    "    model = smf.ols(f,df).df\n",
    "    model.summary()\n",
    "    \n",
    "    # Checking normality of our residule errors\n",
    "    resids = model.resid\n",
    "    sm.graphics.qqplot(resids,stats.norm,line='45',fit=True)\n",
    "    \n",
    "    return cols, model\n",
    "    \n",
    "\n",
    "    "
   ]
  },
  {
   "cell_type": "code",
   "execution_count": null,
   "metadata": {},
   "outputs": [],
   "source": []
  }
 ],
 "metadata": {
  "kernelspec": {
   "display_name": "learn-env",
   "language": "python",
   "name": "learn-env"
  },
  "language_info": {
   "codemirror_mode": {
    "name": "ipython",
    "version": 3
   },
   "file_extension": ".py",
   "mimetype": "text/x-python",
   "name": "python",
   "nbconvert_exporter": "python",
   "pygments_lexer": "ipython3",
   "version": "3.6.9"
  }
 },
 "nbformat": 4,
 "nbformat_minor": 2
}
