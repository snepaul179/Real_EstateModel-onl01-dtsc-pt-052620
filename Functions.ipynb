{
 "cells": [
  {
   "cell_type": "markdown",
   "metadata": {},
   "source": [
    "Creating funtion to help out with Module-2 Final Project. The list of finction and thier discription will be listed below\n"
   ]
  },
  {
   "cell_type": "markdown",
   "metadata": {},
   "source": []
  },
  {
   "cell_type": "code",
   "execution_count": 1,
   "metadata": {
    "ExecuteTime": {
     "end_time": "2020-08-31T03:20:18.740908Z",
     "start_time": "2020-08-31T03:20:15.961655Z"
    }
   },
   "outputs": [],
   "source": [
    "import pandas as pd\n",
    "import numpy as np\n",
    "import matplotlib.pyplot as plt\n",
    "import statsmodels.api as sm\n",
    "import statsmodels.stats.api as sms\n",
    "import statsmodels.formula.api as smf\n",
    "import scipy.stats as stats\n",
    "%matplotlib inline\n",
    "import warnings"
   ]
  },
  {
   "cell_type": "code",
   "execution_count": 2,
   "metadata": {
    "ExecuteTime": {
     "end_time": "2020-08-31T03:20:18.882559Z",
     "start_time": "2020-08-31T03:20:18.781522Z"
    }
   },
   "outputs": [],
   "source": [
    "import seaborn as sns\n",
    "import scipy.stats as stats"
   ]
  },
  {
   "cell_type": "code",
   "execution_count": 2,
   "metadata": {
    "code_folding": []
   },
   "outputs": [],
   "source": []
  },
  {
   "cell_type": "code",
   "execution_count": 6,
   "metadata": {
    "ExecuteTime": {
     "end_time": "2020-09-01T04:30:00.882381Z",
     "start_time": "2020-09-01T04:30:00.858844Z"
    }
   },
   "outputs": [],
   "source": [
    "def corr_map(df, cutoff = 0.75):\n",
    "    ''' Generates correlation mask to hide the unwanted cells from a correlation matrix. \n",
    "    required input is the df (DataFrame)'''\n",
    "    \n",
    "    # Set a new fig and its size\n",
    "    fig, ax= plt.subplots(figsize = (12,12))\n",
    "    \n",
    "    # Create a corrrelation matrix for each df columns and round it to 3 sig-figs.\n",
    "    corr = np.abs(df.corr().round(3))\n",
    "    \n",
    "    # Create a mask to hide the duplicate half of the matrix for easy comparison\n",
    "    mask = np.zeros_like(corr, dtype=np.bool)\n",
    "    idx = np.triu_indices_from(mask)\n",
    "    mask[idx] = True\n",
    "    \n",
    "    # create a heat map with the help of the correlation values\n",
    "    sns.heatmap(corr, annot=True, square=True, mask=mask, vmin=cutoff, cmap='Blues',\n",
    "            ax=ax, linewidths=.5, cbar_kws={\"shrink\": .5}, cbar=True)\n",
    "    \n",
    "    plt.set_ylim(len(corr),-0.5,0.5)\n",
    "    \n",
    "    # generate a df of correlation that are higher than the cutoff value\n",
    "    df_corr=df.corr().abs().stack().reset_index().sort_values(0, ascending=False)\n",
    "    df_corr = df_corr[~(df_corr['level_0'] == df_corr['level_1'])]\n",
    "    df_corr['pair'] = list(zip(df_corr['level_0'], df_corr['level_1']))\n",
    "    df_corr.drop(columns = ['level_0','level_1'], inplace=True)\n",
    "    df_corr.set_index('pair', drop=True, inplace=True)\n",
    "    df_corr.drop_duplicates(inplace=True)\n",
    "    df_corr.columns = ['cc']\n",
    "    print('Columns with correlation higher than {} are'.format(cutoff))\n",
    "    high_corr = df_corr[df_corr['cc']>cutoff].columns\n",
    "    print(high_corr)\n",
    "    return df_corr, high_corr"
   ]
  },
  {
   "cell_type": "code",
   "execution_count": null,
   "metadata": {},
   "outputs": [],
   "source": [
    "def multi_linear_reg (df, drop_cols, target):\n",
    "    ''' Generate a multilinear model from a DataFrame and without the drop_cols. \n",
    "    \n",
    "    @params:\n",
    "    df is a pd.DataFrame\n",
    "    drop_cols is a list of columns to not include in the model fit\n",
    "    target is the str() of our predicted columns name.\n",
    "    \n",
    "    @Output:\n",
    "    generated linear model\n",
    "    Columns used to generate the model\n",
    "    Model summary\n",
    "    QQ-plot for our residuals to test for normality of residual spread\n",
    "    Plot to check for Homoscadasticity\n",
    "    \n",
    "    '''\n",
    "    # generate the string of pridictor columns used in formulae\n",
    "    cols = df.drop(drop_cols,axis=1).columns\n",
    "    str_cols = ' + '.join(cols)\n",
    "    str_cols\n",
    "    \n",
    "    # join our taget with our predictors str\n",
    "    f = str(target)+'~'+str_cols\n",
    "    \n",
    "    #generate our linear model\n",
    "    model = smf.ols(f,df).df\n",
    "    display(model.summary())\n",
    "    \n",
    "    fig, axes = plt.subplots(ncols=2, nrows=1, figsize=(10,10))\n",
    "    \n",
    "    # Checking normality of our residule errors\n",
    "    resids = model.resid\n",
    "    sm.graphics.qqplot(resids,stats.norm,line='45',fit=True, ax=axes[0])\n",
    "    \n",
    "    \n",
    "    # Checking for the Homoscadasticity\n",
    "    \n",
    "    xs = df[target]\n",
    "    axes[1].plot(xs,resids)\n",
    "    axes[1].hlines(y=0, xmin=0, xmax=len(resids))\n",
    "    \n",
    "    ax[1].set(ylabel='Residuals',title='Homoskedasticity Check',\n",
    "              xlabel=xlabel)\n",
    "    \n",
    "    return cols, model\n",
    "    \n",
    "\n",
    "    "
   ]
  },
  {
   "cell_type": "code",
   "execution_count": 3,
   "metadata": {
    "ExecuteTime": {
     "end_time": "2020-08-31T03:53:22.453670Z",
     "start_time": "2020-08-31T03:53:22.446618Z"
    },
    "code_folding": []
   },
   "outputs": [],
   "source": [
    "def multi_scatterplot(df, cols, target, kind='scatter'):\n",
    "    '''\n",
    "     Plot scatter plots for each col against a target column.\n",
    "     \n",
    "     '''\n",
    "    if len(col)%4 == 0:\n",
    "        fig, axes = plt.subplots(nrows=len(cols)//4, ncols=4, figsize =(10,10))\n",
    "        for col, ax in zip(cols, axes):\n",
    "            df.plot(kind=kind, x=col, y=target, ax=ax, alpha=0.4, color='b')\n",
    "    else:\n",
    "        fig, axes = plt.subplots(nrows=(len(cols)//4)+1, ncols=len(cols)/2, figsize =(10,10))\n",
    "        for col, ax in zip(cols, axes):\n",
    "            df.plot(kind=kind, x=col, y=target, ax=ax, alpha=0.4, color='b')\n"
   ]
  },
  {
   "cell_type": "code",
   "execution_count": 4,
   "metadata": {
    "ExecuteTime": {
     "end_time": "2020-08-31T19:57:08.052496Z",
     "start_time": "2020-08-31T19:57:08.043432Z"
    }
   },
   "outputs": [],
   "source": [
    "def catagorical(df, value_range = (1,10)):\n",
    "    '''\n",
    "     Retrun an numpy array of catagorical columns from a dataframs.\n",
    "     Criteria from the catagorical values is based on number of unique values.\n",
    "     \n",
    "     Input: \n",
    "     df : pandas.DataFrame()\n",
    "     \n",
    "     value_range (default = (1,10)) : Lower and upper range to filter in the the number of unique value per column.\n",
    "                  The values are exclusive.\n",
    "     '''\n",
    "    \n",
    "    cols_unique_value = df.nunique().sort_values()\n",
    "    cat_cols = (cols_unique_value[(cols_unique_value>value_range[0]) & \n",
    "                                  (cols_unique_value<value_range[1])]).index\n",
    "    return np.array(cat_cols)"
   ]
  },
  {
   "cell_type": "code",
   "execution_count": 5,
   "metadata": {
    "ExecuteTime": {
     "end_time": "2020-08-31T21:05:27.150048Z",
     "start_time": "2020-08-31T21:05:27.142122Z"
    }
   },
   "outputs": [],
   "source": [
    "def one_hot_endcoding(df, catagoricals):\n",
    "    '''\n",
    "     Create one_hot_encoded columns from the catagorical columns list.\n",
    "     Retruns: a df_ohe\n",
    "     '''\n",
    "    \n",
    "    df1 = df[catagoricals].astype('category')\n",
    "    preprocessing = pd.get_dummies(df1[catagoricals], prefix=catagoricals, \n",
    "                                   drop_first=True)\n",
    "    df1.drop(columns=catagoricals, inplace=True)\n",
    "\n",
    "    df_ohe = pd.concat([df1, preprocessing], axis=1)\n",
    "    return df_ohe"
   ]
  },
  {
   "cell_type": "code",
   "execution_count": 10,
   "metadata": {
    "ExecuteTime": {
     "end_time": "2020-09-02T16:22:28.775455Z",
     "start_time": "2020-09-02T16:22:28.766997Z"
    }
   },
   "outputs": [],
   "source": [
    "def analysis_plot(df,col,target='SalePrice'):\n",
    "    '''\n",
    "     Plots a joint plot against our target column. with hist/kde on the perimeter. \n",
    "     Plot scatter plots on second axes\n",
    "     \n",
    "    Inputs are independent variable (col), dependent variable (Target).\n",
    "    output will be the fg and axes. '''\n",
    "    \n",
    "    # create a fig with 2 axes\n",
    "    fig ,axes = plt.subplots(ncols=2,ylabel=target, title = (f'{col} vs {target}'))\n",
    "    \n",
    "    # First graph is a joint plot\n",
    "    graph = sns.jointplot(data=df,x=col,y=target,kind='reg', ax=axes[0])\n",
    "    axes[0].suptitle(f\"{col} vs {target}\")\n",
    "    \n",
    "    # second plot is a scatter plot.\n",
    "    plt.scatter(col, target, data =df, alpha=0.5, )\n",
    "    axes[1].set(xlabel=col, ylabel=target)\n",
    "    \n",
    "    return\n",
    "\n",
    "\n",
    "# uses the intractive widgets to draw a plot for a selected col from a column list\n",
    "# from ipywidgets import interact\n",
    "\n",
    "# @interact\n",
    "def show_plot(col):\n",
    "    '''\n",
    "     It calls another plot_col function. \n",
    "     This function is used in conjuction of ipwidgets.interact function. '''\n",
    "\n",
    "    plot_col(df,col)"
   ]
  },
  {
   "cell_type": "code",
   "execution_count": 1,
   "metadata": {
    "ExecuteTime": {
     "end_time": "2020-09-19T22:18:41.400206Z",
     "start_time": "2020-09-19T22:18:41.393647Z"
    }
   },
   "outputs": [],
   "source": [
    "def outliers_z(data, z_cutoff = 3):\n",
    "    z_calc = np.abs(stats.zscore(data, axis=1))\n",
    "    z_calc = pd.DataFrame(z_calc, index = data.index,columns=data.columns)\n",
    "    outliers = z_calc > z_cutoff\n",
    "    return outliers"
   ]
  },
  {
   "cell_type": "code",
   "execution_count": null,
   "metadata": {},
   "outputs": [],
   "source": [
    "def norm_data():\n",
    "\n",
    "def scale_data():\n",
    "\n"
   ]
  }
 ],
 "metadata": {
  "kernelspec": {
   "display_name": "learn-env",
   "language": "python",
   "name": "learn-env"
  },
  "language_info": {
   "codemirror_mode": {
    "name": "ipython",
    "version": 3
   },
   "file_extension": ".py",
   "mimetype": "text/x-python",
   "name": "python",
   "nbconvert_exporter": "python",
   "pygments_lexer": "ipython3",
   "version": "3.6.9"
  },
  "toc": {
   "base_numbering": 1,
   "nav_menu": {},
   "number_sections": true,
   "sideBar": true,
   "skip_h1_title": false,
   "title_cell": "Table of Contents",
   "title_sidebar": "Contents",
   "toc_cell": false,
   "toc_position": {},
   "toc_section_display": true,
   "toc_window_display": false
  },
  "varInspector": {
   "cols": {
    "lenName": 16,
    "lenType": 16,
    "lenVar": 40
   },
   "kernels_config": {
    "python": {
     "delete_cmd_postfix": "",
     "delete_cmd_prefix": "del ",
     "library": "var_list.py",
     "varRefreshCmd": "print(var_dic_list())"
    },
    "r": {
     "delete_cmd_postfix": ") ",
     "delete_cmd_prefix": "rm(",
     "library": "var_list.r",
     "varRefreshCmd": "cat(var_dic_list()) "
    }
   },
   "types_to_exclude": [
    "module",
    "function",
    "builtin_function_or_method",
    "instance",
    "_Feature"
   ],
   "window_display": false
  }
 },
 "nbformat": 4,
 "nbformat_minor": 2
}
